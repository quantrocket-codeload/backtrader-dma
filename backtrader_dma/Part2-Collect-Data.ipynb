{
 "cells": [
  {
   "cell_type": "markdown",
   "metadata": {},
   "source": [
    "<a href=\"https://www.quantrocket.com\"><img alt=\"QuantRocket logo\" src=\"https://www.quantrocket.com/assets/img/notebook-header-logo.png\"></a>\n",
    "\n",
    "<a href=\"https://www.quantrocket.com/disclaimer/\">Disclaimer</a>"
   ]
  },
  {
   "cell_type": "markdown",
   "metadata": {},
   "source": [
    "# Collect data\n",
    "\n",
    "To run the sample strategy we need 1-day bars for a single symbol. Any symbol will work, we will use AAPL. Create a database for free sample data (if it doesn't already exist):"
   ]
  },
  {
   "cell_type": "code",
   "execution_count": 1,
   "metadata": {},
   "outputs": [
    {
     "data": {
      "text/plain": [
       "{'status': 'successfully created quantrocket.v2.history.usstock-free-1d.sqlite'}"
      ]
     },
     "execution_count": 1,
     "metadata": {},
     "output_type": "execute_result"
    }
   ],
   "source": [
    "from quantrocket.history import create_usstock_db\n",
    "create_usstock_db(\"usstock-free-1d\", bar_size=\"1 day\", free=True)"
   ]
  },
  {
   "cell_type": "markdown",
   "metadata": {},
   "source": [
    "Then collect the data:"
   ]
  },
  {
   "cell_type": "code",
   "execution_count": 2,
   "metadata": {},
   "outputs": [
    {
     "data": {
      "text/plain": [
       "{'status': 'the historical data will be collected asynchronously'}"
      ]
     },
     "execution_count": 2,
     "metadata": {},
     "output_type": "execute_result"
    }
   ],
   "source": [
    "from quantrocket.history import collect_history\n",
    "collect_history(\"usstock-free-1d\")"
   ]
  },
  {
   "cell_type": "markdown",
   "metadata": {},
   "source": [
    "Use flightlog to monitor the progress:\n",
    "\n",
    "```\n",
    "quantrocket.history: INFO [usstock-free-1d] Collecting FREE history from 2007 to present\n",
    "quantrocket.history: INFO [usstock-free-1d] Collecting updated FREE securities listings\n",
    "quantrocket.history: INFO [usstock-free-1d] Collecting additional FREE history from 2020-04 to present\n",
    "quantrocket.history: INFO [usstock-free-1d] Collected 160 monthly files in quantrocket.v2.history.usstock-free-1d.sqlite\n",
    "```"
   ]
  },
  {
   "cell_type": "markdown",
   "metadata": {},
   "source": [
    "Next we look up the Sid for AAPL (using the CLI in this example):"
   ]
  },
  {
   "cell_type": "code",
   "execution_count": 1,
   "metadata": {},
   "outputs": [
    {
     "name": "stdout",
     "output_type": "stream",
     "text": [
      "---\n",
      "  - \n",
      "    Sid: \"FIBBG000B9XRY4\"\n",
      "    Symbol: \"AAPL\"\n",
      "    Exchange: \"XNAS\"\n",
      "    Country: \"US\"\n",
      "    Currency: \"USD\"\n",
      "    SecType: \"STK\"\n",
      "    Etf: 0\n",
      "    Timezone: \"America/New_York\"\n",
      "    Name: \"APPLE INC\"\n",
      "    PriceMagnifier: 1\n",
      "    Multiplier: 1\n",
      "    Delisted: 0\n",
      "    DateDelisted: null\n",
      "    LastTradeDate: null\n",
      "    RolloverDate: null\n",
      "\n"
     ]
    }
   ],
   "source": [
    "!quantrocket master get --symbol 'AAPL' --json | json2yml"
   ]
  },
  {
   "cell_type": "markdown",
   "metadata": {},
   "source": [
    "We'll use this Sid in our backtrader script."
   ]
  },
  {
   "cell_type": "markdown",
   "metadata": {},
   "source": [
    "***\n",
    "\n",
    "## *Next Up*\n",
    "\n",
    "Part 3: [Strategy code](Part3-Strategy-Code.ipynb)"
   ]
  }
 ],
 "metadata": {
  "kernelspec": {
   "display_name": "Python 3",
   "language": "python",
   "name": "python3"
  },
  "language_info": {
   "codemirror_mode": {
    "name": "ipython",
    "version": 3
   },
   "file_extension": ".py",
   "mimetype": "text/x-python",
   "name": "python",
   "nbconvert_exporter": "python",
   "pygments_lexer": "ipython3",
   "version": "3.7.6"
  }
 },
 "nbformat": 4,
 "nbformat_minor": 4
}

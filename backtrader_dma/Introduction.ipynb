{
 "cells": [
  {
   "cell_type": "markdown",
   "metadata": {},
   "source": [
    "<a href=\"https://www.quantrocket.com\"><img alt=\"QuantRocket logo\" src=\"https://www.quantrocket.com/assets/img/notebook-header-logo.png\"></a><br>\n",
    "<a href=\"https://www.quantrocket.com/disclaimer/\">Disclaimer</a>"
   ]
  },
  {
   "cell_type": "markdown",
   "metadata": {},
   "source": [
    "# Backtrader moving average crossover strategy\n",
    "\n",
    "This tutorial uses QuantRocket's `satellite` service to run a simple dual moving average crossover strategy using the open source backtesting engine backtrader. \n",
    "\n",
    "* Part 1: [Install backtrader](Part1-Install-backtrader.ipynb)\n",
    "* Part 2: [Collect data](Part2-Collect-Data.ipynb)\n",
    "* Part 3: [Strategy code](Part3-Strategy-Code.ipynb)\n",
    "* Part 4: [Run backtest](Part4-Run-Backtest.ipynb)"
   ]
  }
 ],
 "metadata": {
  "kernelspec": {
   "display_name": "Python 3",
   "language": "python",
   "name": "python3"
  },
  "language_info": {
   "codemirror_mode": {
    "name": "ipython",
    "version": 3
   },
   "file_extension": ".py",
   "mimetype": "text/x-python",
   "name": "python",
   "nbconvert_exporter": "python",
   "pygments_lexer": "ipython3",
   "version": "3.7.6"
  }
 },
 "nbformat": 4,
 "nbformat_minor": 4
}

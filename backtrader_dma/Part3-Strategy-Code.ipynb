{
 "cells": [
  {
   "cell_type": "markdown",
   "metadata": {},
   "source": [
    "<a href=\"https://www.quantrocket.com\"><img alt=\"QuantRocket logo\" src=\"https://www.quantrocket.com/assets/img/notebook-header-logo.png\"></a><br>\n",
    "<a href=\"https://www.quantrocket.com/disclaimer/\">Disclaimer</a>"
   ]
  },
  {
   "cell_type": "markdown",
   "metadata": {},
   "source": [
    "***\n",
    "[Backtrader Moving Average Strategy](Introduction.ipynb) › Part 3: Strategy Code\n",
    "***"
   ]
  },
  {
   "cell_type": "markdown",
   "metadata": {},
   "source": [
    "# Strategy code\n",
    "\n",
    "The strategy code is simple and is located in [dual_moving_average.py](dual_moving_average.py). A few highlights are shown below.\n",
    "\n",
    "To use our historical data in backtrader, we download a CSV of AAPL prices and create our backtrader data feed from it:\n",
    "\n",
    "```python\n",
    "import backtrader.feeds as btfeeds\n",
    "from quantrocket.history import download_history_file\n",
    "\n",
    "# Create data feed using QuantRocket data and add to backtrader\n",
    "# (Put files in /tmp to have QuantRocket automatically clean them out after\n",
    "# a few hours)\n",
    "download_history_file(\n",
    "    'usstock-free-1d',\n",
    "    sids=['FIBBG000B9XRY4'],\n",
    "    filepath_or_buffer='/tmp/backtrader-demo-1d.csv',\n",
    "    fields=['Sid','Date','Open','Close','High','Low','Volume'])\n",
    "\n",
    "data = btfeeds.GenericCSVData(\n",
    "    dataname='/tmp/backtrader-demo-1d.csv',\n",
    "    dtformat=('%Y-%m-%d'),\n",
    "    datetime=1,\n",
    "    open=2,\n",
    "    close=3,\n",
    "    high=4,\n",
    "    low=5,\n",
    "    volume=6\n",
    ")\n",
    "cerebro.adddata(data)\n",
    "```\n",
    "\n",
    "A backtest commonly ends by plotting a performance chart, but since our code will be running in a headless Docker container, we should save the plot to a file (which we'll tell QuantRocket to return to us when we run the backtest):\n",
    "\n",
    "```python\n",
    "# Save the plot to PDF so the satellite service can return it\n",
    "cerebro.plot(savefig=True, figfilename='/tmp/backtrader-plot.pdf')\n",
    "```"
   ]
  },
  {
   "cell_type": "markdown",
   "metadata": {},
   "source": [
    "***\n",
    "\n",
    "## *Next Up*\n",
    "\n",
    "Part 4: [Run backtest](Part4-Run-Backtest.ipynb)"
   ]
  }
 ],
 "metadata": {
  "kernelspec": {
   "display_name": "Python 3.9",
   "language": "python",
   "name": "python3"
  },
  "language_info": {
   "codemirror_mode": {
    "name": "ipython",
    "version": 3
   },
   "file_extension": ".py",
   "mimetype": "text/x-python",
   "name": "python",
   "nbconvert_exporter": "python",
   "pygments_lexer": "ipython3",
   "version": "3.9.7"
  }
 },
 "nbformat": 4,
 "nbformat_minor": 4
}

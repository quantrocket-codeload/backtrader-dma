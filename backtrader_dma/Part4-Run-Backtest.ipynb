{
 "cells": [
  {
   "cell_type": "markdown",
   "metadata": {},
   "source": [
    "<a href=\"https://www.quantrocket.com\"><img alt=\"QuantRocket logo\" src=\"https://www.quantrocket.com/assets/img/notebook-header-logo.png\"></a>\n",
    "\n",
    "<a href=\"https://www.quantrocket.com/disclaimer/\">Disclaimer</a>"
   ]
  },
  {
   "cell_type": "markdown",
   "metadata": {},
   "source": [
    "# Run backtest\n",
    "\n",
    "We can now run our backtest from the QuantRocket client. The API for the satellite service lets us execute an arbitrary Python function or shell command and optionally return a file. In our case, we'll execute the `run` function in our Python script and tell QuantRocket to return the PDF performance chart that our script will create.\n"
   ]
  },
  {
   "cell_type": "code",
   "execution_count": 1,
   "metadata": {},
   "outputs": [],
   "source": [
    "from quantrocket.satellite import execute_command\n",
    "execute_command(\"codeload.backtrader_dma.dual_moving_average.run\",\n",
    "                return_file=\"/tmp/backtrader-plot.pdf\",\n",
    "                filepath_or_buffer=\"backtrader-plot.pdf\")"
   ]
  },
  {
   "cell_type": "markdown",
   "metadata": {},
   "source": [
    "Finally, open the resulting `backtrader-plot.pdf` and have a look at the results."
   ]
  }
 ],
 "metadata": {
  "kernelspec": {
   "display_name": "Python 3",
   "language": "python",
   "name": "python3"
  },
  "language_info": {
   "codemirror_mode": {
    "name": "ipython",
    "version": 3
   },
   "file_extension": ".py",
   "mimetype": "text/x-python",
   "name": "python",
   "nbconvert_exporter": "python",
   "pygments_lexer": "ipython3",
   "version": "3.7.6"
  }
 },
 "nbformat": 4,
 "nbformat_minor": 4
}
